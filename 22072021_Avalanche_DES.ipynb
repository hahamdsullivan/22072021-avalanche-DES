{
  "nbformat": 4,
  "nbformat_minor": 0,
  "metadata": {
    "colab": {
      "provenance": []
    },
    "kernelspec": {
      "name": "python3",
      "display_name": "Python 3"
    },
    "language_info": {
      "name": "python"
    }
  },
  "cells": [
    {
      "cell_type": "code",
      "execution_count": 89,
      "metadata": {
        "colab": {
          "base_uri": "https://localhost:8080/"
        },
        "id": "mwUe64fKqBD2",
        "outputId": "22bdba42-d5bd-46df-86ec-3d86e2f81713"
      },
      "outputs": [
        {
          "output_type": "stream",
          "name": "stdout",
          "text": [
            "Looking in indexes: https://pypi.org/simple, https://us-python.pkg.dev/colab-wheels/public/simple/\n",
            "Requirement already satisfied: pycrypto in /usr/local/lib/python3.8/dist-packages (2.6.1)\n"
          ]
        }
      ],
      "source": [
        "!pip install pycrypto\n"
      ]
    },
    {
      "cell_type": "code",
      "source": [
        "import random\n",
        "import numpy as np\n",
        "import matplotlib.pyplot as plt\n",
        "import statistics\n",
        "import itertools\n",
        "import time\n",
        "from Crypto.Cipher import DES"
      ],
      "metadata": {
        "id": "V-4tn-qBq3sD"
      },
      "execution_count": 90,
      "outputs": []
    },
    {
      "cell_type": "code",
      "source": [
        "def hd(str1, str2):\n",
        "    str1=hex2bin(str1)\n",
        "    str2=hex2bin(str2)\n",
        "    distance = 0\n",
        "    for ch1, ch2 in zip(str1, str2):\n",
        "        if ch1 != ch2:\n",
        "            distance += 1\n",
        "    return distance\n",
        "import random\n",
        "def xorN(s,n):\n",
        "    s=hex2bin(s)\n",
        "    indices=random.choices(list(range(64)),k=n)\n",
        "    ls=list(s)\n",
        "    #print(ls)\n",
        "    #print()\n",
        "    #print(indices)\n",
        "    for i in indices:\n",
        "        if ls[i]=='0':\n",
        "            ls[i]='1'\n",
        "        else:\n",
        "            ls[i]='0'\n",
        "    ans= \"\".join(ls)\n",
        "    return bin2hex(ans)\n",
        "        \n",
        "def hex2bin(s):\n",
        "    mp = {'0': \"0000\",\n",
        "        '1': \"0001\",\n",
        "        '2': \"0010\",\n",
        "        '3': \"0011\",\n",
        "        '4': \"0100\",\n",
        "        '5': \"0101\",\n",
        "        '6': \"0110\",\n",
        "        '7': \"0111\",\n",
        "        '8': \"1000\",\n",
        "        '9': \"1001\",\n",
        "        'A': \"1010\",\n",
        "        'B': \"1011\",\n",
        "        'C': \"1100\",\n",
        "        'D': \"1101\",\n",
        "        'E': \"1110\",\n",
        "        'F': \"1111\"}\n",
        "    bin = \"\"\n",
        "    for i in range(len(s)):\n",
        "        bin = bin + mp[s[i]]\n",
        "    return bin\n",
        "def bin2hex(s):\n",
        "    mp = {\"0000\": '0',\n",
        "        \"0001\": '1',\n",
        "        \"0010\": '2',\n",
        "        \"0011\": '3',\n",
        "        \"0100\": '4',\n",
        "        \"0101\": '5',\n",
        "        \"0110\": '6',\n",
        "        \"0111\": '7',\n",
        "        \"1000\": '8',\n",
        "        \"1001\": '9',\n",
        "        \"1010\": 'A',\n",
        "        \"1011\": 'B',\n",
        "        \"1100\": 'C',\n",
        "        \"1101\": 'D',\n",
        "        \"1110\": 'E',\n",
        "        \"1111\": 'F'}\n",
        "    hex = \"\"\n",
        "    for i in range(0, len(s), 4):\n",
        "        ch = \"\"\n",
        "        ch = ch + s[i]\n",
        "        ch = ch + s[i + 1]\n",
        "        ch = ch + s[i + 2]\n",
        "        ch = ch + s[i + 3]\n",
        "        hex = hex + mp[ch]\n",
        "\n",
        "    return hex\n",
        "\n",
        "# Binary to decimal conversion\n",
        "\n",
        "\n",
        "def bin2dec(binary):\n",
        "\n",
        "    binary1 = binary\n",
        "    decimal, i, n = 0, 0, 0\n",
        "    while(binary != 0):\n",
        "        dec = binary % 10\n",
        "        decimal = decimal + dec * pow(2, i)\n",
        "        binary = binary//10\n",
        "        i += 1\n",
        "    return decimal\n",
        "\n",
        "# Decimal to binary conversion\n",
        "\n",
        "\n",
        "def dec2bin(num):\n",
        "    res = bin(num).replace(\"0b\", \"\")\n",
        "    if(len(res) % 4 != 0):\n",
        "        div = len(res) / 4\n",
        "        div = int(div)\n",
        "        counter = (4 * (div + 1)) - len(res)\n",
        "        for i in range(0, counter):\n",
        "            res = '0' + res\n",
        "    return res\n",
        "\n",
        "# Permute function to rearrange the bits\n",
        "\n",
        "\n",
        "def permute(k, arr, n):\n",
        "    permutation = \"\"\n",
        "    for i in range(0, n):\n",
        "        permutation = permutation + k[arr[i] - 1]\n",
        "    return permutation\n",
        "\n",
        "# shifting the bits towards left by nth shifts\n",
        "\n",
        "\n",
        "def shift_left(k, nth_shifts):\n",
        "    s = \"\"\n",
        "    for i in range(nth_shifts):\n",
        "        for j in range(1, len(k)):\n",
        "            s = s + k[j]\n",
        "        s = s + k[0]\n",
        "        k = s\n",
        "        s = \"\"\n",
        "    return k\n",
        "\n",
        "# calculating xow of two strings of binary number a and b\n",
        "\n",
        "\n",
        "def xor(a, b):\n",
        "    ans = \"\"\n",
        "    for i in range(len(a)):\n",
        "        if a[i] == b[i]:\n",
        "            ans = ans + \"0\"\n",
        "        else:\n",
        "            ans = ans + \"1\"\n",
        "    return ans\n",
        "\n",
        "\n",
        "# Table of Position of 64 bits at initial level: Initial Permutation Table\n",
        "initial_perm = [58, 50, 42, 34, 26, 18, 10, 2,\n",
        "                60, 52, 44, 36, 28, 20, 12, 4,\n",
        "                62, 54, 46, 38, 30, 22, 14, 6,\n",
        "                64, 56, 48, 40, 32, 24, 16, 8,\n",
        "                57, 49, 41, 33, 25, 17, 9, 1,\n",
        "                59, 51, 43, 35, 27, 19, 11, 3,\n",
        "                61, 53, 45, 37, 29, 21, 13, 5,\n",
        "                63, 55, 47, 39, 31, 23, 15, 7]\n",
        "\n",
        "# Expansion D-box Table\n",
        "exp_d = [32, 1, 2, 3, 4, 5, 4, 5,\n",
        "        6, 7, 8, 9, 8, 9, 10, 11,\n",
        "        12, 13, 12, 13, 14, 15, 16, 17,\n",
        "        16, 17, 18, 19, 20, 21, 20, 21,\n",
        "        22, 23, 24, 25, 24, 25, 26, 27,\n",
        "        28, 29, 28, 29, 30, 31, 32, 1]\n",
        "\n",
        "# Straight Permutation Table\n",
        "per = [16, 7, 20, 21,\n",
        "    29, 12, 28, 17,\n",
        "    1, 15, 23, 26,\n",
        "    5, 18, 31, 10,\n",
        "    2, 8, 24, 14,\n",
        "    32, 27, 3, 9,\n",
        "    19, 13, 30, 6,\n",
        "    22, 11, 4, 25]\n",
        "\n",
        "# S-box Table\n",
        "sbox = [[[14, 4, 13, 1, 2, 15, 11, 8, 3, 10, 6, 12, 5, 9, 0, 7],\n",
        "        [0, 15, 7, 4, 14, 2, 13, 1, 10, 6, 12, 11, 9, 5, 3, 8],\n",
        "        [4, 1, 14, 8, 13, 6, 2, 11, 15, 12, 9, 7, 3, 10, 5, 0],\n",
        "        [15, 12, 8, 2, 4, 9, 1, 7, 5, 11, 3, 14, 10, 0, 6, 13]],\n",
        "\n",
        "        [[15, 1, 8, 14, 6, 11, 3, 4, 9, 7, 2, 13, 12, 0, 5, 10],\n",
        "        [3, 13, 4, 7, 15, 2, 8, 14, 12, 0, 1, 10, 6, 9, 11, 5],\n",
        "        [0, 14, 7, 11, 10, 4, 13, 1, 5, 8, 12, 6, 9, 3, 2, 15],\n",
        "        [13, 8, 10, 1, 3, 15, 4, 2, 11, 6, 7, 12, 0, 5, 14, 9]],\n",
        "\n",
        "        [[10, 0, 9, 14, 6, 3, 15, 5, 1, 13, 12, 7, 11, 4, 2, 8],\n",
        "        [13, 7, 0, 9, 3, 4, 6, 10, 2, 8, 5, 14, 12, 11, 15, 1],\n",
        "        [13, 6, 4, 9, 8, 15, 3, 0, 11, 1, 2, 12, 5, 10, 14, 7],\n",
        "        [1, 10, 13, 0, 6, 9, 8, 7, 4, 15, 14, 3, 11, 5, 2, 12]],\n",
        "\n",
        "        [[7, 13, 14, 3, 0, 6, 9, 10, 1, 2, 8, 5, 11, 12, 4, 15],\n",
        "        [13, 8, 11, 5, 6, 15, 0, 3, 4, 7, 2, 12, 1, 10, 14, 9],\n",
        "        [10, 6, 9, 0, 12, 11, 7, 13, 15, 1, 3, 14, 5, 2, 8, 4],\n",
        "        [3, 15, 0, 6, 10, 1, 13, 8, 9, 4, 5, 11, 12, 7, 2, 14]],\n",
        "\n",
        "        [[2, 12, 4, 1, 7, 10, 11, 6, 8, 5, 3, 15, 13, 0, 14, 9],\n",
        "        [14, 11, 2, 12, 4, 7, 13, 1, 5, 0, 15, 10, 3, 9, 8, 6],\n",
        "        [4, 2, 1, 11, 10, 13, 7, 8, 15, 9, 12, 5, 6, 3, 0, 14],\n",
        "        [11, 8, 12, 7, 1, 14, 2, 13, 6, 15, 0, 9, 10, 4, 5, 3]],\n",
        "\n",
        "        [[12, 1, 10, 15, 9, 2, 6, 8, 0, 13, 3, 4, 14, 7, 5, 11],\n",
        "        [10, 15, 4, 2, 7, 12, 9, 5, 6, 1, 13, 14, 0, 11, 3, 8],\n",
        "        [9, 14, 15, 5, 2, 8, 12, 3, 7, 0, 4, 10, 1, 13, 11, 6],\n",
        "        [4, 3, 2, 12, 9, 5, 15, 10, 11, 14, 1, 7, 6, 0, 8, 13]],\n",
        "\n",
        "        [[4, 11, 2, 14, 15, 0, 8, 13, 3, 12, 9, 7, 5, 10, 6, 1],\n",
        "        [13, 0, 11, 7, 4, 9, 1, 10, 14, 3, 5, 12, 2, 15, 8, 6],\n",
        "        [1, 4, 11, 13, 12, 3, 7, 14, 10, 15, 6, 8, 0, 5, 9, 2],\n",
        "        [6, 11, 13, 8, 1, 4, 10, 7, 9, 5, 0, 15, 14, 2, 3, 12]],\n",
        "\n",
        "        [[13, 2, 8, 4, 6, 15, 11, 1, 10, 9, 3, 14, 5, 0, 12, 7],\n",
        "        [1, 15, 13, 8, 10, 3, 7, 4, 12, 5, 6, 11, 0, 14, 9, 2],\n",
        "        [7, 11, 4, 1, 9, 12, 14, 2, 0, 6, 10, 13, 15, 3, 5, 8],\n",
        "        [2, 1, 14, 7, 4, 10, 8, 13, 15, 12, 9, 0, 3, 5, 6, 11]]]\n",
        "\n",
        "# Final Permutation Table\n",
        "final_perm = [40, 8, 48, 16, 56, 24, 64, 32,\n",
        "            39, 7, 47, 15, 55, 23, 63, 31,\n",
        "            38, 6, 46, 14, 54, 22, 62, 30,\n",
        "            37, 5, 45, 13, 53, 21, 61, 29,\n",
        "            36, 4, 44, 12, 52, 20, 60, 28,\n",
        "            35, 3, 43, 11, 51, 19, 59, 27,\n",
        "            34, 2, 42, 10, 50, 18, 58, 26,\n",
        "            33, 1, 41, 9, 49, 17, 57, 25]\n",
        "def encrypt(pt, rkb, rk,myList):\n",
        "    pt = hex2bin(pt)\n",
        "\n",
        "    # Initial Permutation\n",
        "    pt = permute(pt, initial_perm, 64)\n",
        "   # print(\"After initial permutation\", bin2hex(pt))\n",
        "\n",
        "    # Splitting\n",
        "    left = pt[0:32]\n",
        "    right = pt[32:64]\n",
        "    for i in range(0, 16):\n",
        "        # Expansion D-box: Expanding the 32 bits data into 48 bits\n",
        "        right_expanded = permute(right, exp_d, 48)\n",
        "\n",
        "        # XOR RoundKey[i] and right_expanded\n",
        "        xor_x = xor(right_expanded, rkb[i])\n",
        "\n",
        "        # S-boxex: substituting the value from s-box table by calculating row and column\n",
        "        sbox_str = \"\"\n",
        "        for j in range(0, 8):\n",
        "            row = bin2dec(int(xor_x[j * 6] + xor_x[j * 6 + 5]))\n",
        "            col = bin2dec(\n",
        "                int(xor_x[j * 6 + 1] + xor_x[j * 6 + 2] + xor_x[j * 6 + 3] + xor_x[j * 6 + 4]))\n",
        "            val = sbox[j][row][col]\n",
        "            sbox_str = sbox_str + dec2bin(val)\n",
        "\n",
        "        # Straight D-box: After substituting rearranging the bits\n",
        "        sbox_str = permute(sbox_str, per, 32)\n",
        "\n",
        "        # XOR left and sbox_str\n",
        "        result = xor(left, sbox_str)\n",
        "        left = result\n",
        "        \n",
        "        # Swapper\n",
        "        val1=bin2hex(left)\n",
        "        val2=bin2hex(right)\n",
        "        myList.append(val1+val2)\n",
        "        if(i != 15):\n",
        "            left, right = right, left\n",
        "\n",
        "    # Combination\n",
        "    combine = left + right\n",
        "\n",
        "    # Final permutation: final rearranging of bits to get cipher text\n",
        "    cipher_text = permute(combine, final_perm, 64)\n",
        "    return cipher_text\n",
        "def getList(pt,key):\n",
        "    myList=[]\n",
        "    # Key generation\n",
        "    # --hex to binary\n",
        "    key = hex2bin(key)\n",
        "\n",
        "    # --parity bit drop table\n",
        "    keyp = [57, 49, 41, 33, 25, 17, 9,\n",
        "            1, 58, 50, 42, 34, 26, 18,\n",
        "            10, 2, 59, 51, 43, 35, 27,\n",
        "            19, 11, 3, 60, 52, 44, 36,\n",
        "            63, 55, 47, 39, 31, 23, 15,\n",
        "            7, 62, 54, 46, 38, 30, 22,\n",
        "            14, 6, 61, 53, 45, 37, 29,\n",
        "            21, 13, 5, 28, 20, 12, 4]\n",
        "\n",
        "    # getting 56 bit key from 64 bit using the parity bits\n",
        "    key = permute(key, keyp, 56)\n",
        "\n",
        "    # Number of bit shifts\n",
        "    shift_table = [1, 1, 2, 2,\n",
        "                2, 2, 2, 2,\n",
        "                1, 2, 2, 2,\n",
        "                2, 2, 2, 1]\n",
        "\n",
        "    # Key- Compression Table : Compression of key from 56 bits to 48 bits\n",
        "    key_comp = [14, 17, 11, 24, 1, 5,\n",
        "                3, 28, 15, 6, 21, 10,\n",
        "                23, 19, 12, 4, 26, 8,\n",
        "                16, 7, 27, 20, 13, 2,\n",
        "                41, 52, 31, 37, 47, 55,\n",
        "                30, 40, 51, 45, 33, 48,\n",
        "                44, 49, 39, 56, 34, 53,\n",
        "                46, 42, 50, 36, 29, 32]\n",
        "\n",
        "    # Splitting\n",
        "    left = key[0:28] # rkb for RoundKeys in binary\n",
        "    right = key[28:56] # rk for RoundKeys in hexadecimal\n",
        "\n",
        "    rkb = []\n",
        "    rk = []\n",
        "    for i in range(0, 16):\n",
        "        # Shifting the bits by nth shifts by checking from shift table\n",
        "        left = shift_left(left, shift_table[i])\n",
        "        right = shift_left(right, shift_table[i])\n",
        "\n",
        "        # Combination of left and right string\n",
        "        combine_str = left + right\n",
        "\n",
        "        # Compression of key from 56 to 48 bits\n",
        "        round_key = permute(combine_str, key_comp, 48)\n",
        "\n",
        "        rkb.append(round_key)\n",
        "        rk.append(bin2hex(round_key))\n",
        "\n",
        "    #print(\"Encryption\")\n",
        "    cipher_text = bin2hex(encrypt(pt, rkb, rk,myList))\n",
        "    print(\"Cipher Text : \", cipher_text)\n",
        "    \n",
        "    return myList"
      ],
      "metadata": {
        "id": "Nrs6RhfKAhpK"
      },
      "execution_count": 91,
      "outputs": []
    },
    {
      "cell_type": "markdown",
      "source": [
        "### **1.CHANGING PLAINTEXTS i.e USING 5 DIFFERENT PLAINTEXTS**"
      ],
      "metadata": {
        "id": "jGz26qLzAnAI"
      }
    },
    {
      "cell_type": "code",
      "source": [
        "pt =  \"3F5A2F0F0AC0B257\"\n",
        "key = \"D3E5B2B0A0C0F57A\"\n",
        "xorPtList=[]\n",
        "for _ in range(5):\n",
        "    xorPtList.append(xorN(pt,1))"
      ],
      "metadata": {
        "id": "P_Ti-0xWAwfx"
      },
      "execution_count": 92,
      "outputs": []
    },
    {
      "cell_type": "code",
      "source": [
        "xorPtList"
      ],
      "metadata": {
        "colab": {
          "base_uri": "https://localhost:8080/"
        },
        "id": "xzPdIfUKA10y",
        "outputId": "d46be63f-d736-4823-f9da-8b172e680838"
      },
      "execution_count": 93,
      "outputs": [
        {
          "output_type": "execute_result",
          "data": {
            "text/plain": [
              "['3F5A2F0F0AC0B255',\n",
              " '3F5A2F8F0AC0B257',\n",
              " '3F5A2F0F2AC0B257',\n",
              " '3F5E2F0F0AC0B257',\n",
              " '3F5A2F0F0AC0B247']"
            ]
          },
          "metadata": {},
          "execution_count": 93
        }
      ]
    },
    {
      "cell_type": "code",
      "source": [
        "cList=getList(pt,key) \n",
        "cList"
      ],
      "metadata": {
        "colab": {
          "base_uri": "https://localhost:8080/"
        },
        "id": "F8PVBrczA5nk",
        "outputId": "5d265099-b895-4a3d-9ff7-bfa79fce6fbf"
      },
      "execution_count": 94,
      "outputs": [
        {
          "output_type": "stream",
          "name": "stdout",
          "text": [
            "Cipher Text :  553C44788CCEB777\n"
          ]
        },
        {
          "output_type": "execute_result",
          "data": {
            "text/plain": [
              "['D4841CCB60451FDF',\n",
              " '1F3C209CD4841CCB',\n",
              " '9B9213B41F3C209C',\n",
              " '096A3AA89B9213B4',\n",
              " '784BD021096A3AA8',\n",
              " '5209B264784BD021',\n",
              " '623487F95209B264',\n",
              " '2CB40EF5623487F9',\n",
              " '21FEF9B82CB40EF5',\n",
              " 'D46E9D6D21FEF9B8',\n",
              " '2B046C12D46E9D6D',\n",
              " '2283AA182B046C12',\n",
              " 'E63F162A2283AA18',\n",
              " '3A3ED1F6E63F162A',\n",
              " '70CA3AE03A3ED1F6',\n",
              " 'ADCBF7C170CA3AE0']"
            ]
          },
          "metadata": {},
          "execution_count": 94
        }
      ]
    },
    {
      "cell_type": "code",
      "source": [
        "x1cL=[]\n",
        "for i in range(5):\n",
        "    x1cL.append(getList(xorPtList[i],key))"
      ],
      "metadata": {
        "colab": {
          "base_uri": "https://localhost:8080/"
        },
        "id": "GTmFRMauA8V6",
        "outputId": "12893a5f-d7c7-42f5-fceb-93c3531bb99b"
      },
      "execution_count": 95,
      "outputs": [
        {
          "output_type": "stream",
          "name": "stdout",
          "text": [
            "Cipher Text :  A2B58858B715C6CF\n",
            "Cipher Text :  1DA35F081354415C\n",
            "Cipher Text :  28A285295D98D6E4\n",
            "Cipher Text :  2CEC91DA603AF184\n",
            "Cipher Text :  893C2A0AE494ADD6\n"
          ]
        }
      ]
    },
    {
      "cell_type": "code",
      "source": [
        "for i in x1cL:\n",
        "    print(i)\n",
        "    print()"
      ],
      "metadata": {
        "colab": {
          "base_uri": "https://localhost:8080/"
        },
        "id": "sqhnuaH8BG9V",
        "outputId": "ac49fe07-f9c3-4e64-fda5-e954bb18cdfb"
      },
      "execution_count": 96,
      "outputs": [
        {
          "output_type": "stream",
          "name": "stdout",
          "text": [
            "['D4B43CCA60451F5F', '9A7BB81AD4B43CCA', '5720F4AC9A7BB81A', '6337AF345720F4AC', 'D5FFB2096337AF34', 'C92E9C4FD5FFB209', '1A9A6191C92E9C4F', '733C26A71A9A6191', '7DA9ED26733C26A7', '637BA6917DA9ED26', '770AC3BE637BA691', '78403A26770AC3BE', '0C7ED0F378403A26', '80DC12130C7ED0F3', 'D7138CD180DC1213', 'C83AF2B2D7138CD1']\n",
            "\n",
            "['940CDCCB68451FDF', 'D3F9E38A940CDCCB', 'AB845A71D3F9E38A', 'F85D05A9AB845A71', '477DBD41F85D05A9', '75132EF8477DBD41', '5AC4050075132EF8', '40E68FF95AC40500', 'B16AFA9940E68FF9', 'E0A65866B16AFA99', 'B678E2A6E0A65866', '9A82A19BB678E2A6', 'AA2B4EB59A82A19B', '1E49D524AA2B4EB5', '02028D161E49D524', 'E4B5A55702028D16']\n",
            "\n",
            "['54C50DCF60551FDF', '299FBAFD54C50DCF', '0D89BAA5299FBAFD', '678000430D89BAA5', '497DB7F367800043', 'D368252A497DB7F3', '8B9E699AD368252A', 'BE2559888B9E699A', '9BF316CFBE255988', 'D48E9FB59BF316CF', '93218359D48E9FB5', 'CC174F7B93218359', '88BE99DCCC174F7B', '2A0F4BEE88BE99DC', 'E68B39422A0F4BEE', 'D070D41CE68B3942']\n",
            "\n",
            "['D4841ECB60451FDF', '0F1C209CD4841ECB', '9F1A10A60F1C209C', 'D50842889F1A10A6', '20582E43D5084288', 'C2F92F5A20582E43', '7B702D18C2F92F5A', 'DB216C727B702D18', '9789C543DB216C72', 'C65F41C29789C543', '183CDDA3C65F41C2', '93090C42183CDDA3', 'DEB283C693090C42', '83BB3958DEB283C6', 'CE732B2883BB3958', '5A6C8344CE732B28']\n",
            "\n",
            "['D4041CCB60451FDF', '5B3C6088D4041CCB', '908CDF955B3C6088', 'D2F6ED96908CDF95', 'B2FF8468D2F6ED96', '1854B570B2FF8468', 'E9259E471854B570', '09EB04C8E9259E47', '6668413809EB04C8', '0164904266684138', '7A0C317001649042', '39D027597A0C3170', '8A3A1DAE39D02759', '008D52448A3A1DAE', 'F1564F8C008D5244', '90A2F241F1564F8C']\n",
            "\n"
          ]
        }
      ]
    },
    {
      "cell_type": "code",
      "source": [
        "finalList=[] \n",
        "# It will contain list of 16 rounds' HD of XORed plaintexts with that of original plaintexts\n",
        "for i in range(5):\n",
        "    tempL=[]\n",
        "    for s1,s2 in zip(cList,x1cL[i]):\n",
        "        tempL.append(hd(s1,s2))\n",
        "    print(tempL)\n",
        "    finalList.append(tempL)\n",
        "        "
      ],
      "metadata": {
        "colab": {
          "base_uri": "https://localhost:8080/"
        },
        "id": "CK6RYgKeBKaO",
        "outputId": "4142dc15-212d-4ae7-d2c5-62b2a3eb5dbb"
      },
      "execution_count": 97,
      "outputs": [
        {
          "output_type": "stream",
          "name": "stdout",
          "text": [
            "[5, 17, 29, 33, 31, 31, 34, 30, 29, 36, 37, 32, 31, 34, 36, 34]\n",
            "[6, 20, 27, 29, 34, 32, 30, 26, 20, 22, 31, 29, 25, 27, 32, 35]\n",
            "[7, 21, 29, 34, 36, 30, 33, 36, 38, 29, 26, 36, 36, 28, 21, 32]\n",
            "[1, 3, 9, 20, 29, 32, 29, 31, 40, 38, 31, 30, 31, 33, 33, 35]\n",
            "[1, 6, 18, 34, 35, 27, 28, 31, 29, 28, 27, 26, 25, 27, 31, 27]\n"
          ]
        }
      ]
    },
    {
      "cell_type": "code",
      "source": [
        "from itertools import zip_longest\n",
        "tranposed_tuples = zip_longest(*finalList, fillvalue=None)\n",
        "transposed_tuples_list = list(tranposed_tuples)\n",
        "data1 = [list(sublist) for sublist in transposed_tuples_list]\n",
        "data1"
      ],
      "metadata": {
        "colab": {
          "base_uri": "https://localhost:8080/"
        },
        "id": "c0M1DunXBO4Z",
        "outputId": "4e275d56-56e4-49aa-d7c5-7f7740f07f5b"
      },
      "execution_count": 98,
      "outputs": [
        {
          "output_type": "execute_result",
          "data": {
            "text/plain": [
              "[[5, 6, 7, 1, 1],\n",
              " [17, 20, 21, 3, 6],\n",
              " [29, 27, 29, 9, 18],\n",
              " [33, 29, 34, 20, 34],\n",
              " [31, 34, 36, 29, 35],\n",
              " [31, 32, 30, 32, 27],\n",
              " [34, 30, 33, 29, 28],\n",
              " [30, 26, 36, 31, 31],\n",
              " [29, 20, 38, 40, 29],\n",
              " [36, 22, 29, 38, 28],\n",
              " [37, 31, 26, 31, 27],\n",
              " [32, 29, 36, 30, 26],\n",
              " [31, 25, 36, 31, 25],\n",
              " [34, 27, 28, 33, 27],\n",
              " [36, 32, 21, 33, 31],\n",
              " [34, 35, 32, 35, 27]]"
            ]
          },
          "metadata": {},
          "execution_count": 98
        }
      ]
    },
    {
      "cell_type": "code",
      "source": [
        "import matplotlib.pyplot as plt\n",
        "import pandas as pd\n",
        "fig = plt.figure(figsize =(10, 7))\n",
        "ax = fig.add_subplot(111)\n",
        "plt.rcParams[\"figure.figsize\"] = [250, 200]\n",
        "# Creating axes instance\n",
        "#bp = ax.boxplot(data,showmeans=True)\n",
        "bp = ax.boxplot(data1, patch_artist = True, notch ='True',showmeans='true')\n",
        "for median in bp['medians']:\n",
        "    median.set(color ='red',\n",
        "               linewidth = 3)\n",
        "# show plot\n",
        "plt.show()"
      ],
      "metadata": {
        "colab": {
          "base_uri": "https://localhost:8080/",
          "height": 428
        },
        "id": "_eXmPG_3BTvv",
        "outputId": "297c2566-c540-4295-8081-f8a2637e41ec"
      },
      "execution_count": 99,
      "outputs": [
        {
          "output_type": "display_data",
          "data": {
            "text/plain": [
              "<Figure size 720x504 with 1 Axes>"
            ],
            "image/png": "[encoded data removed]"
          },
          "metadata": {
            "needs_background": "light"
          }
        }
      ]
    },
    {
      "cell_type": "markdown",
      "source": [
        "## **2 5 DIFFERENT HAMMING DISTANCE**"
      ],
      "metadata": {
        "id": "ylHvMAs7EKS9"
      }
    },
    {
      "cell_type": "code",
      "source": [
        "pt =  \"3F5A2F0F0AC0B257\"\n",
        "key = \"D3E5B2B0A0C0F57A\"\n",
        "xorPtList=[]\n",
        "for _ in range(5):\n",
        "    xorPtList.append(xorN(pt,1))"
      ],
      "metadata": {
        "id": "1fJf5jssEad_"
      },
      "execution_count": 100,
      "outputs": []
    },
    {
      "cell_type": "code",
      "source": [
        "random5HDs=list(random.choices(range(64),k=5))\n",
        "random5HDs"
      ],
      "metadata": {
        "colab": {
          "base_uri": "https://localhost:8080/"
        },
        "id": "iDn9zATFEt9r",
        "outputId": "b3321082-774a-4b8e-94c6-9d02e53d00eb"
      },
      "execution_count": 101,
      "outputs": [
        {
          "output_type": "execute_result",
          "data": {
            "text/plain": [
              "[56, 15, 30, 12, 2]"
            ]
          },
          "metadata": {},
          "execution_count": 101
        }
      ]
    },
    {
      "cell_type": "code",
      "source": [
        "xorPtList=[]\n",
        "\n",
        "for i in range(5):\n",
        "    xorPtList.append(xorN(pt,random5HDs[i]))\n"
      ],
      "metadata": {
        "id": "zm5smLUKEyTe"
      },
      "execution_count": 102,
      "outputs": []
    },
    {
      "cell_type": "code",
      "source": [
        "xorPtList\n",
        "cList=getList(pt,key) \n",
        "cList"
      ],
      "metadata": {
        "colab": {
          "base_uri": "https://localhost:8080/"
        },
        "id": "AcYYX_1KE4iP",
        "outputId": "e5a7699f-a38a-4473-dc28-208d12c45e56"
      },
      "execution_count": 103,
      "outputs": [
        {
          "output_type": "stream",
          "name": "stdout",
          "text": [
            "Cipher Text :  553C44788CCEB777\n"
          ]
        },
        {
          "output_type": "execute_result",
          "data": {
            "text/plain": [
              "['D4841CCB60451FDF',\n",
              " '1F3C209CD4841CCB',\n",
              " '9B9213B41F3C209C',\n",
              " '096A3AA89B9213B4',\n",
              " '784BD021096A3AA8',\n",
              " '5209B264784BD021',\n",
              " '623487F95209B264',\n",
              " '2CB40EF5623487F9',\n",
              " '21FEF9B82CB40EF5',\n",
              " 'D46E9D6D21FEF9B8',\n",
              " '2B046C12D46E9D6D',\n",
              " '2283AA182B046C12',\n",
              " 'E63F162A2283AA18',\n",
              " '3A3ED1F6E63F162A',\n",
              " '70CA3AE03A3ED1F6',\n",
              " 'ADCBF7C170CA3AE0']"
            ]
          },
          "metadata": {},
          "execution_count": 103
        }
      ]
    },
    {
      "cell_type": "code",
      "source": [
        "x1cL=[]\n",
        "for i in range(5):\n",
        "    x1cL.append(getList(xorPtList[i],key))"
      ],
      "metadata": {
        "colab": {
          "base_uri": "https://localhost:8080/"
        },
        "id": "KisYkNSZFDr4",
        "outputId": "c906bad2-ce3f-4017-cef0-e9579c6fb1c5"
      },
      "execution_count": 104,
      "outputs": [
        {
          "output_type": "stream",
          "name": "stdout",
          "text": [
            "Cipher Text :  14CB6582E2A7E9F8\n",
            "Cipher Text :  17C1730CC516E4DC\n",
            "Cipher Text :  03735A9E9A8569EB\n",
            "Cipher Text :  BFD3C603E5D1C5D6\n",
            "Cipher Text :  0013C47DEA09AD41\n"
          ]
        }
      ]
    },
    {
      "cell_type": "code",
      "source": [
        "for i in x1cL:\n",
        "    print(i)\n",
        "    print()"
      ],
      "metadata": {
        "colab": {
          "base_uri": "https://localhost:8080/"
        },
        "id": "j-a--UbaFRc2",
        "outputId": "5d370ccc-36fa-4302-ec21-2b274dd1f86d"
      },
      "execution_count": 105,
      "outputs": [
        {
          "output_type": "stream",
          "name": "stdout",
          "text": [
            "['879367567CE138EF', '2159C3E687936756', 'BF1EEEE92159C3E6', 'C04985FBBF1EEEE9', 'B6A9C6EDC04985FB', '65D4BB96B6A9C6ED', '8F5634FA65D4BB96', 'CCCDD2B18F5634FA', '76DA459ACCCDD2B1', 'DAD8457576DA459A', '8D88C388DAD84575', 'C53906D28D88C388', 'E325240EC53906D2', 'EB953448E325240E', 'FAF4C23AEB953448', 'D6812566FAF4C23A']\n",
            "\n",
            "['B388DE4851055FDE', '3603D6C5B388DE48', 'AA8AF5AA3603D6C5', '9F1F21F0AA8AF5AA', 'E80F99B69F1F21F0', '6AE40A45E80F99B6', '75D7323F6AE40A45', '6F28ADA675D7323F', 'CC6E71466F28ADA6', '97176B26CC6E7146', 'DE790A6B97176B26', '659BCA28DE790A6B', 'FADDE556659BCA28', 'B2025173FADDE556', 'D2448825B2025173', 'D6A5F917D2448825']\n",
            "\n",
            "['72F03AE0AA6317D6', '946FCEB672F03AE0', 'A0FCBB80946FCEB6', 'A2C0AFD5A0FCBB80', 'D4EB06CDA2C0AFD5', 'C1C190AFD4EB06CD', '8D6BC751C1C190AF', '95970AAD8D6BC751', 'F838CF9795970AAD', '09010C76F838CF97', '95F32FA809010C76', '240C0DD495F32FA8', 'F1B0109D240C0DD4', '35D533A0F1B0109D', 'B8C2DC9F35D533A0', 'C61E28E3B8C2DC9F']\n",
            "\n",
            "['6CAC348920470FD9', '0FC4C0936CAC3489', 'A13C7D230FC4C093', '0B90AB86A13C7D23', '8BFBBA020B90AB86', '50F73CB58BFBBA02', 'DBB41AFF50F73CB5', '690C0CCCDBB41AFF', '4C162C8E690C0CCC', '9E85762C4C162C8E', 'CA2B381C9E85762C', '876E76A8CA2B381C', '3B7A6FCA876E76A8', 'B687873A3B7A6FCA', 'F711018FB687873A', 'F6A3D57BF711018F']\n",
            "\n",
            "['94845CDB78451FDF', '0CAEAA3F94845CDB', 'D51158D10CAEAA3F', '96DF2D91D51158D1', 'BAA3D17E96DF2D91', '8DDE9442BAA3D17E', 'D79668798DDE9442', '7E6253F6D7966879', '568E02877E6253F6', 'D6C15AD9568E0287', '2E6BE7A1D6C15AD9', 'F3717E232E6BE7A1', '7DB737C0F3717E23', '724882B77DB737C0', '54587812724882B7', '9C0A4CEA54587812']\n",
            "\n"
          ]
        }
      ]
    },
    {
      "cell_type": "code",
      "source": [
        "finalList=[] \n",
        "# It will contain list of 16 rounds' HD of XORed plaintexts with that of original plaintexts\n",
        "for i in range(5):\n",
        "    tempL=[]\n",
        "    for s1,s2 in zip(cList,x1cL[i]):\n",
        "        tempL.append(hd(s1,s2))\n",
        "    print(tempL)\n",
        "    finalList.append(tempL)\n",
        "        "
      ],
      "metadata": {
        "colab": {
          "base_uri": "https://localhost:8080/"
        },
        "id": "b1X1Q7B9FT39",
        "outputId": "b5ca78ce-f4ec-48ca-fd14-b5ffad3aab39"
      },
      "execution_count": 106,
      "outputs": [
        {
          "output_type": "stream",
          "name": "stdout",
          "text": [
            "[31, 38, 36, 35, 34, 34, 34, 31, 29, 28, 31, 36, 29, 30, 38, 36]\n",
            "[19, 32, 33, 30, 28, 27, 33, 33, 32, 35, 39, 31, 28, 28, 25, 34]\n",
            "[25, 32, 33, 35, 35, 30, 31, 29, 30, 37, 40, 37, 33, 35, 34, 35]\n",
            "[15, 23, 32, 33, 30, 32, 29, 25, 30, 35, 32, 33, 35, 33, 37, 36]\n",
            "[5, 16, 28, 34, 33, 33, 35, 31, 37, 38, 33, 35, 32, 27, 25, 28]\n"
          ]
        }
      ]
    },
    {
      "cell_type": "code",
      "source": [
        "from itertools import zip_longest\n",
        "tranposed_tuples = zip_longest(*finalList, fillvalue=None)\n",
        "transposed_tuples_list = list(tranposed_tuples)\n",
        "data2 = [list(sublist) for sublist in transposed_tuples_list]\n",
        "data2"
      ],
      "metadata": {
        "colab": {
          "base_uri": "https://localhost:8080/"
        },
        "id": "BQLqlQ2tFWT9",
        "outputId": "2f2661f5-e7cb-4e71-edf1-e327aa1a4c61"
      },
      "execution_count": 107,
      "outputs": [
        {
          "output_type": "execute_result",
          "data": {
            "text/plain": [
              "[[31, 19, 25, 15, 5],\n",
              " [38, 32, 32, 23, 16],\n",
              " [36, 33, 33, 32, 28],\n",
              " [35, 30, 35, 33, 34],\n",
              " [34, 28, 35, 30, 33],\n",
              " [34, 27, 30, 32, 33],\n",
              " [34, 33, 31, 29, 35],\n",
              " [31, 33, 29, 25, 31],\n",
              " [29, 32, 30, 30, 37],\n",
              " [28, 35, 37, 35, 38],\n",
              " [31, 39, 40, 32, 33],\n",
              " [36, 31, 37, 33, 35],\n",
              " [29, 28, 33, 35, 32],\n",
              " [30, 28, 35, 33, 27],\n",
              " [38, 25, 34, 37, 25],\n",
              " [36, 34, 35, 36, 28]]"
            ]
          },
          "metadata": {},
          "execution_count": 107
        }
      ]
    },
    {
      "cell_type": "code",
      "source": [
        "import matplotlib.pyplot as plt\n",
        "import pandas as pd\n",
        "fig = plt.figure(figsize =(10, 7))\n",
        "ax = fig.add_subplot(111)\n",
        "plt.rcParams[\"figure.figsize\"] = [250, 200]\n",
        "# Creating axes instance\n",
        "#bp = ax.boxplot(data,showmeans=True)\n",
        "bp = ax.boxplot(data2, patch_artist = True, notch ='True',showmeans='true')\n",
        "for median in bp['medians']:\n",
        "    median.set(color ='red',\n",
        "               linewidth = 3)\n",
        "# show plot\n",
        "plt.show()"
      ],
      "metadata": {
        "colab": {
          "base_uri": "https://localhost:8080/",
          "height": 428
        },
        "id": "raBfaX7_FdVv",
        "outputId": "6d290174-03b3-423b-ee38-bd94a9397a6f"
      },
      "execution_count": 108,
      "outputs": [
        {
          "output_type": "display_data",
          "data": {
            "text/plain": [
              "<Figure size 720x504 with 1 Axes>"
            ],
            "image/png": "[encoded data removed]"
          },
          "metadata": {
            "needs_background": "light"
          }
        }
      ]
    },
    {
      "cell_type": "markdown",
      "source": [
        "## **3. CHANGE KEYS i.e USING 5 DIFFERENT KEYS**"
      ],
      "metadata": {
        "id": "Bs7EHGh9FtPX"
      }
    },
    {
      "cell_type": "code",
      "source": [
        "pt =  \"3F5A2F0F0AC0B257\"\n",
        "key = \"D3E5B2B0A0C0F57A\"\n",
        "xorPtList=[]\n",
        "for _ in range(5):\n",
        "    xorPtList.append(xorN(pt,1))"
      ],
      "metadata": {
        "id": "pYba3PP4F7uZ"
      },
      "execution_count": 109,
      "outputs": []
    },
    {
      "cell_type": "code",
      "source": [
        "xorKeyList=[]\n",
        "for _ in range(5):\n",
        "    xorKeyList.append(xorN(key,1))"
      ],
      "metadata": {
        "id": "UGcg_FlEGBai"
      },
      "execution_count": 110,
      "outputs": []
    },
    {
      "cell_type": "code",
      "source": [
        "xorKeyList"
      ],
      "metadata": {
        "colab": {
          "base_uri": "https://localhost:8080/"
        },
        "id": "nURmQzA6GEc9",
        "outputId": "7c7ac38d-7336-430b-b28f-aa58ab1bbc09"
      },
      "execution_count": 111,
      "outputs": [
        {
          "output_type": "execute_result",
          "data": {
            "text/plain": [
              "['D3E5B2B0A080F57A',\n",
              " 'D7E5B2B0A0C0F57A',\n",
              " 'D3F5B2B0A0C0F57A',\n",
              " 'D3E532B0A0C0F57A',\n",
              " 'D3E5B2B0A0C2F57A']"
            ]
          },
          "metadata": {},
          "execution_count": 111
        }
      ]
    },
    {
      "cell_type": "code",
      "source": [
        "cList=getList(pt,key) \n",
        "cList"
      ],
      "metadata": {
        "colab": {
          "base_uri": "https://localhost:8080/"
        },
        "id": "0LHkqUE4GHBD",
        "outputId": "5ec10bb2-440a-4378-80e7-368f4f3af476"
      },
      "execution_count": 112,
      "outputs": [
        {
          "output_type": "stream",
          "name": "stdout",
          "text": [
            "Cipher Text :  553C44788CCEB777\n"
          ]
        },
        {
          "output_type": "execute_result",
          "data": {
            "text/plain": [
              "['D4841CCB60451FDF',\n",
              " '1F3C209CD4841CCB',\n",
              " '9B9213B41F3C209C',\n",
              " '096A3AA89B9213B4',\n",
              " '784BD021096A3AA8',\n",
              " '5209B264784BD021',\n",
              " '623487F95209B264',\n",
              " '2CB40EF5623487F9',\n",
              " '21FEF9B82CB40EF5',\n",
              " 'D46E9D6D21FEF9B8',\n",
              " '2B046C12D46E9D6D',\n",
              " '2283AA182B046C12',\n",
              " 'E63F162A2283AA18',\n",
              " '3A3ED1F6E63F162A',\n",
              " '70CA3AE03A3ED1F6',\n",
              " 'ADCBF7C170CA3AE0']"
            ]
          },
          "metadata": {},
          "execution_count": 112
        }
      ]
    },
    {
      "cell_type": "code",
      "source": [
        "kCtL=[]\n",
        "for i in range(5):\n",
        "    kCtL.append(getList(pt,xorKeyList[i]))\n",
        "\n",
        "for i in kCtL:\n",
        "    print(i)\n",
        "    print()"
      ],
      "metadata": {
        "colab": {
          "base_uri": "https://localhost:8080/"
        },
        "id": "3KT5UQmOGLd8",
        "outputId": "ac4623fa-b951-49c5-95c9-b79c6cf2d572"
      },
      "execution_count": 113,
      "outputs": [
        {
          "output_type": "stream",
          "name": "stdout",
          "text": [
            "Cipher Text :  7E4BCA5C39C4D526\n",
            "Cipher Text :  A599AFD5727593F6\n",
            "Cipher Text :  DB9C1D40470FD4CE\n",
            "Cipher Text :  A083D1B278826F59\n",
            "Cipher Text :  945ECD6161208D36\n",
            "['94845CCB60451FDF', '1EBCA21E94845CCB', 'EAF476C51EBCA21E', 'AC5261C9EAF476C5', '8630802EAC5261C9', '2D4446AB8630802E', 'F37C8AF62D4446AB', 'FBF981FBF37C8AF6', '15BB24CFFBF981FB', '7D18E63A15BB24CF', '0EF1D0587D18E63A', '7A12C6930EF1D058', '6D8E70CC7A12C693', '2C423E376D8E70CC', '64911F872C423E37', '6F59E95264911F87']\n",
            "\n",
            "['D4841CCB60451FDF', '173E289CD4841CCB', '5A1E03F6173E289C', '39851DBB5A1E03F6', '24B27C7339851DBB', '281D6DC424B27C73', '8F4EDCC5281D6DC4', '13149A268F4EDCC5', 'CD58E77F13149A26', 'F0A57158CD58E77F', '41465FD2F0A57158', 'E659827841465FD2', 'F6D95688E6598278', '325E4313F6D95688', 'CFB506D4325E4313', 'B8FAAD6FCFB506D4']\n",
            "\n",
            "['D4841CCB60451FDF', '1D2C209CD4841CCB', '0BD362A81D2C209C', 'AC7970D40BD362A8', '1028A279AC7970D4', '846118961028A279', 'FF190C3084611896', '2659212FFF190C30', '0F09312D2659212F', '36EE2E4E0F09312D', 'D9686B4236EE2E4E', 'D021F97ED9686B42', 'D6D3AB8FD021F97E', '2681359ED6D3AB8F', 'C300A7B12681359E', 'D947F635C300A7B1']\n",
            "\n",
            "['D4049CCB60451FDF', '7A7C614CD4049CCB', '4EB4C8A47A7C614C', '7821DB9A4EB4C8A4', 'BE7EA37D7821DB9A', '420A5BF9BE7EA37D', '8743149F420A5BF9', 'ACD17D1A8743149F', 'FADCE6F4ACD17D1A', 'E2D0E85DFADCE6F4', '5EA01F04E2D0E85D', '8D1580AF5EA01F04', '631E51588D1580AF', '28FD295A631E5158', '2F59D06A28FD295A', 'D49C40C62F59D06A']\n",
            "\n",
            "['C4A43CCB60451FDF', '5EBB2B8EC4A43CCB', 'A2069A655EBB2B8E', '3DC5085FA2069A65', 'B390C5453DC5085F', 'A45E6F9FB390C545', '5013C863A45E6F9F', 'CD976A255013C863', '2CF0A817CD976A25', '5B75A2212CF0A817', '28622DD25B75A221', '1DCCC15128622DD2', '4F6D6E4A1DCCC151', 'DA71A5854F6D6E4A', '45B84682DA71A585', '1E83C75C45B84682']\n",
            "\n"
          ]
        }
      ]
    },
    {
      "cell_type": "code",
      "source": [
        "finalList=[] \n",
        "# It will contain list of 16 rounds' HD of XORed plaintexts with that of original plaintexts\n",
        "for i in range(5):\n",
        "    tempL=[]\n",
        "    for s1,s2 in zip(cList,kCtL[i]):\n",
        "        tempL.append(hd(s1,s2))\n",
        "    print(tempL)\n",
        "    finalList.append(tempL)\n",
        "\n",
        "from itertools import zip_longest\n",
        "tranposed_tuples = zip_longest(*finalList, fillvalue=None)\n",
        "transposed_tuples_list = list(tranposed_tuples)\n",
        "data3 = [list(sublist) for sublist in transposed_tuples_list]\n",
        "data3"
      ],
      "metadata": {
        "colab": {
          "base_uri": "https://localhost:8080/"
        },
        "id": "oqpWx70rGQrv",
        "outputId": "d0c1bc72-fc35-478f-9d0f-fbe6d304c8dc"
      },
      "execution_count": 114,
      "outputs": [
        {
          "output_type": "stream",
          "name": "stdout",
          "text": [
            "[2, 8, 22, 31, 34, 41, 34, 30, 36, 38, 37, 31, 31, 35, 33, 29]\n",
            "[0, 3, 12, 25, 33, 33, 36, 36, 34, 34, 28, 24, 22, 21, 32, 36]\n",
            "[0, 2, 13, 26, 29, 31, 34, 35, 36, 31, 27, 30, 33, 34, 34, 30]\n",
            "[2, 12, 25, 30, 32, 30, 32, 36, 33, 33, 33, 35, 32, 28, 33, 37]\n",
            "[3, 14, 25, 33, 36, 41, 40, 29, 28, 33, 28, 29, 32, 30, 33, 30]\n"
          ]
        },
        {
          "output_type": "execute_result",
          "data": {
            "text/plain": [
              "[[2, 0, 0, 2, 3],\n",
              " [8, 3, 2, 12, 14],\n",
              " [22, 12, 13, 25, 25],\n",
              " [31, 25, 26, 30, 33],\n",
              " [34, 33, 29, 32, 36],\n",
              " [41, 33, 31, 30, 41],\n",
              " [34, 36, 34, 32, 40],\n",
              " [30, 36, 35, 36, 29],\n",
              " [36, 34, 36, 33, 28],\n",
              " [38, 34, 31, 33, 33],\n",
              " [37, 28, 27, 33, 28],\n",
              " [31, 24, 30, 35, 29],\n",
              " [31, 22, 33, 32, 32],\n",
              " [35, 21, 34, 28, 30],\n",
              " [33, 32, 34, 33, 33],\n",
              " [29, 36, 30, 37, 30]]"
            ]
          },
          "metadata": {},
          "execution_count": 114
        }
      ]
    },
    {
      "cell_type": "code",
      "source": [
        "import matplotlib.pyplot as plt\n",
        "import pandas as pd\n",
        "fig = plt.figure(figsize =(10, 7))\n",
        "ax = fig.add_subplot(111)\n",
        "plt.rcParams[\"figure.figsize\"] = [250, 200]\n",
        "# Creating axes instance\n",
        "#bp = ax.boxplot(data,showmeans=True)\n",
        "bp = ax.boxplot(data3, patch_artist = True, notch ='True',showmeans='true')\n",
        "for median in bp['medians']:\n",
        "    median.set(color ='red',\n",
        "               linewidth = 3)\n",
        "# show plot\n",
        "plt.show()"
      ],
      "metadata": {
        "colab": {
          "base_uri": "https://localhost:8080/",
          "height": 428
        },
        "id": "NRUkw1L9GWm4",
        "outputId": "4b617b42-77ba-4ee9-8be0-85c8e1b85fc9"
      },
      "execution_count": 115,
      "outputs": [
        {
          "output_type": "display_data",
          "data": {
            "text/plain": [
              "<Figure size 720x504 with 1 Axes>"
            ],
            "image/png": "[encoded data removed]"
          },
          "metadata": {
            "needs_background": "light"
          }
        }
      ]
    }
  ]
}